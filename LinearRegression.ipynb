{
 "cells": [
  {
   "cell_type": "markdown",
   "id": "cf14057a",
   "metadata": {},
   "source": [
    "# 线性回归\n",
    "\n",
    "- 数据集 $D={(x_1, y_1),(x_2, y_2),...,(x_N, y_N)}, x_i \\in \\mathbb{R}^p,y_i \\in \\mathbb{R}, i = 1, 2, ..., N$\n",
    "- $X = (x_1, x_2, ..., x_N) ^T = $$\\begin{bmatrix}\n",
    "{x_{11}}&{x_{12}}&{\\cdots}&{x_{1p}}\\\\\n",
    "{x_{21}}&{x_{22}}&{\\cdots}&{x_{2p}}\\\\\n",
    "{\\vdots}&{\\vdots}&{\\ddots}&{\\vdots}\\\\\n",
    "{x_{N1}}&{a_{N2}}&{\\cdots}&{x_{Np}}\\\\\n",
    "\\end{bmatrix}_{N*P}$$ , y = $$\\begin{bmatrix}\n",
    "{y_{1}}\\\\\n",
    "{y_{2}}\\\\\n",
    "{\\vdots}\\\\\n",
    "{y_{N}}\\\\\n",
    "\\end{bmatrix}_{N*1}$$ $\n",
    "\n",
    "## 最小二乘估计\n",
    "\n",
    "- 损失函数：$L(w)=\\sum\\limits_{i=1}^N(W^Tx_i-y_i)^2=W^TX^TXW-2W^TX^TY+Y^TY$,$W$为待估计参数\n",
    "- 最优参数$\\hat{W}=\\arg\\underset{W}\\max L(W)$\n",
    "- 求解：$\\frac{\\partial L(W)} {\\partial W}=2X^TXW-2X^TY$，由偏导数为0得到$X^TXW-X^TY=0 \\Rightarrow X^TXW=X^TY \\Rightarrow W=(X^TX)^{-1}X^TY$\n",
    "\n",
    "## 贝叶斯视角\n",
    "\n",
    "给定$x_i, w$的情况下,求y最可能的取值\n",
    "- 假设误差$\\epsilon \\sim N(0, \\sigma^2), y= W^TX+\\epsilon, y|_{X,w} \\sim N(W^TX, \\sigma^2)$\n",
    "- 极大似然估计：$L(W) = log (\\prod\\limits_{i=1}^N p(y_i|_{x_i,w}) )=\\sum\\limits_{i=1}^Nlog(p(y_i|_{x_i,w}))=\\sum\\limits_{i=1}^N(log\\frac{1}{\\sqrt{2\\pi}\\sigma}-\\frac{1}{2\\sigma^2}(y_i-W^Tx_i)^2)$\n",
    "- 最优参数$\\hat{W}= \\arg\\underset{W}\\max L(W)=\\arg\\underset{W}\\max \\sum\\limits_{i=1}^N-\\frac{1}{2\\sigma^2}(y_i-W^Tx_i)^2=\\arg\\underset{W}\\min \\sum\\limits_{i=1}^N (W^Tx_i-y_i)^2$\n",
    "\n",
    "# Ridge回归\n",
    "带l2正则化项的线性回归\n",
    "\n",
    "- 损失函数: $L(w)=\\sum\\limits_{i=1}^N(W^Tx_i-y_i)^2 + \\lambda W^TW=W^TX^TXW-2W^TX^TY+Y^TY + \\lambda W^TIW$\n",
    "- 最优参数$\\hat{W}=\\arg\\underset{W}\\max L(W)$\n",
    "- 求解：$\\frac{\\partial L(W)} {\\partial W}=2X^TXW-2X^TY + 2\\lambda IW$，由偏导数为0得到$X^TXW-X^TY+\\lambda IW=0 \\Rightarrow X^TXW+\\lambda IW=X^TY \\Rightarrow W=(X^TX + \\lambda I)^{-1}X^TY$\n",
    "\n",
    "## 贝叶斯视角\n",
    "假设$W$的先验分布为高斯分布(LASSO回归中$W$的先验分布为拉普拉斯分布)\n",
    "\n",
    "- 假设$w_i \\sim N(0, \\sigma_o^2),则p(w)=\\frac{1}{\\sqrt{2\\pi}\\sigma_o} \\exp\\left\\{-\\frac{||w||^2}{2\\sigma_o^2}\\right\\},p(y|_w)=\\frac{1}{\\sqrt{2\\pi}\\sigma} \\exp\\left\\{-\\frac{||y-W^T||^2}{2\\sigma^2}\\right\\}$\n",
    "- 求W的最大后验估计:\n",
    "\n",
    "<center> $\\begin{aligned}\n",
    "\\hat{W}&=\\arg\\underset{W}\\max  p(w|y) \\\\\n",
    "&=\\arg\\underset{W}\\max \\frac{p(y|w)p(w)}{p(y)} \\\\\n",
    "&=\\arg\\underset{W}\\max p(y|w)p(w) \\\\\n",
    "&=\\arg\\underset{W}\\max \\log {p(y|w)p(w)}\\\\\n",
    "&=\\arg\\underset{W}\\max \\log {\\frac{1}{\\sqrt{2\\pi}\\sigma_o\\sqrt{2\\pi}\\sigma}} + \\log \\exp\\left\\{-\\frac{||y-W^T||^2}{2\\sigma^2} -\\frac{||w||^2}{2\\sigma_o^2} \\right\\}\\\\\n",
    "&=\\arg\\underset{W}\\min \\frac{||y-W^T||^2}{2\\sigma^2}+ \\frac{||w||^2}{2\\sigma_o^2} \\\\\n",
    "&=\\arg\\underset{W}\\min ||y-W^T||^2+ \\frac{\\sigma^2}{\\sigma_o^2} ||w||^2\\\\\n",
    "&=\\arg\\underset{W}\\min ||y-W^T||^2+ \\lambda ||w||^2(\\lambda = \\frac{\\sigma^2}{\\sigma_o^2})\\\\\n",
    "\\end{aligned}$"
   ]
  },
  {
   "cell_type": "markdown",
   "id": "f7d8271f",
   "metadata": {},
   "source": [
    "# 定义工具函数"
   ]
  },
  {
   "cell_type": "code",
   "execution_count": 1,
   "id": "6d6d1f23",
   "metadata": {},
   "outputs": [],
   "source": [
    "import numpy as np\n",
    "import matplotlib.pyplot as plt\n",
    "from sklearn import datasets\n",
    "from sklearn.model_selection import train_test_split\n",
    "from sklearn.metrics import mean_squared_error\n",
    "from sklearn.datasets import make_regression"
   ]
  },
  {
   "cell_type": "code",
   "execution_count": 2,
   "id": "43898d4f",
   "metadata": {},
   "outputs": [],
   "source": [
    "class LinearRegression():\n",
    "    \"\"\"\n",
    "    Parameters:\n",
    "    -----------\n",
    "    n_iterations: int\n",
    "        梯度下降的轮数\n",
    "    learning_rate: float\n",
    "        梯度下降学习率\n",
    "    regularization: l1_regularization or l2_regularization or None\n",
    "        正则化\n",
    "    gradient: Bool\n",
    "        是否采用梯度下降法或正规方程法。\n",
    "        若使用了正则化，暂只支持梯度下降\n",
    "    \"\"\"\n",
    "\n",
    "    def __init__(self, n_iterations=3000, learning_rate=0.00005, regularization=None, gradient=True):\n",
    "        self.n_iterations = n_iterations\n",
    "        self.learning_rate = learning_rate\n",
    "        self.gradient = gradient\n",
    "        if regularization == None:\n",
    "            self.regularization = lambda x: 0\n",
    "            self.regularization.grad = lambda x: 0\n",
    "        else:\n",
    "            self.regularization = regularization\n",
    "\n",
    "    def initialize_weights(self, n_features):\n",
    "        # 初始化参数\n",
    "        limit = np.sqrt(1 / n_features)\n",
    "        w = np.random.uniform(-limit, limit, (n_features, 1))\n",
    "        b = 0\n",
    "        self.w = np.insert(w, 0, b, axis=0)\n",
    "        \n",
    "    def fit(self, X, y):                \n",
    "        m_samples, n_features = X.shape\n",
    "        self.initialize_weights(n_features)\n",
    "        X = np.insert(X, 0, 1, axis=1)\n",
    "        y = np.reshape(y, (m_samples, 1))\n",
    "        self.training_errors = []\n",
    "        if self.gradient == True:\n",
    "\n",
    "            # 梯度下降\n",
    "            for i in range(self.n_iterations):\n",
    "                y_pred = X.dot(self.w)\n",
    "                loss = np.mean(0.5 * (y_pred - y) ** 2) + self.regularization(self.w) #计算loss\n",
    "                if len(self.training_errors) > 10 and np.abs(self.training_errors[-10] - loss) < 0.0001:\n",
    "                    return \n",
    "                self.training_errors.append(loss)\n",
    "\n",
    "                \n",
    "                w_grad = X.T.dot(y_pred - y) / m_samples + self.regularization.grad(self.w)  # (y_pred - y).T.dot(X)，计算梯度\n",
    "                self.w -= self.learning_rate * w_grad #更新权值w\n",
    "                \n",
    "        else:\n",
    "            # 正规方程\n",
    "            X = np.matrix(X)\n",
    "            y = np.matrix(y)\n",
    "            X_T_X = X.T.dot(X)\n",
    "            X_T_X_I_X_T = X_T_X.I.dot(X.T)\n",
    "            X_T_X_I_X_T_X_T_y = X_T_X_I_X_T.dot(y)\n",
    "            self.w = X_T_X_I_X_T_X_T_y\n",
    "\n",
    "    def predict(self, X):\n",
    "        X = np.insert(X, 0, 1, axis=1)\n",
    "        y_pred = X.dot(self.w)\n",
    "        return y_pred"
   ]
  },
  {
   "cell_type": "code",
   "execution_count": 3,
   "id": "e57573f8",
   "metadata": {},
   "outputs": [],
   "source": [
    "X, y = make_regression(n_samples=100, n_features=1, noise=20)\n",
    "X_train, X_test, y_train, y_test = train_test_split(X, y, test_size=0.4)\n",
    "n_samples, n_features = np.shape(X)"
   ]
  },
  {
   "cell_type": "code",
   "execution_count": 4,
   "id": "b42ddb7c",
   "metadata": {},
   "outputs": [],
   "source": [
    "class regularization():\n",
    "    def __init__(self, alpha, l1=False, l2=False):\n",
    "        self.alpha = alpha\n",
    "        self.l1 = l1\n",
    "        self.l2 = l2\n",
    "        \n",
    "    # 正则化的方差\n",
    "    def __call__(self, w):\n",
    "        loss = 0\n",
    "        \n",
    "        if self.l1:\n",
    "            loss += np.sum(np.fabs(w))\n",
    "        \n",
    "        if self.l2:\n",
    "            loss += 0.5 * w.T.dot(w)[0][0]\n",
    "            \n",
    "        return self.alpha * loss\n",
    "\n",
    "    # 正则化的梯度\n",
    "    def grad(self, w):\n",
    "        grad = np.zeros_like(w)\n",
    "        if self.l1:\n",
    "            grad += np.sign(w)\n",
    "        \n",
    "        if self.l2:\n",
    "            grad += w\n",
    "        return self.alpha * grad"
   ]
  },
  {
   "cell_type": "code",
   "execution_count": 5,
   "id": "4791fdf5",
   "metadata": {},
   "outputs": [
    {
     "data": {
      "image/png": "[encoded data removed]",
      "text/plain": [
       "<Figure size 432x288 with 1 Axes>"
      ]
     },
     "metadata": {
      "needs_background": "light"
     },
     "output_type": "display_data"
    },
    {
     "name": "stdout",
     "output_type": "stream",
     "text": [
      "Mean squared error: 479.35754319529605\n"
     ]
    },
    {
     "data": {
      "image/png": "[encoded data removed]",
      "text/plain": [
       "<Figure size 432x288 with 1 Axes>"
      ]
     },
     "metadata": {
      "needs_background": "light"
     },
     "output_type": "display_data"
    }
   ],
   "source": [
    "# # 可自行设置模型参数，如正则化，梯度下降轮数学习率等\n",
    "model = LinearRegression(n_iterations=100, learning_rate=1e-1, regularization=regularization(alpha=0.5, l1=True))\n",
    "# from sklearn.linear_model import LinearRegression as lr\n",
    "# model = lr()\n",
    "model.fit(X_train, y_train)\n",
    "\n",
    "# Training error plot 画loss的图\n",
    "n = len(model.training_errors)\n",
    "training, = plt.plot(range(n), model.training_errors, label=\"Training Error\")\n",
    "plt.legend(handles=[training])\n",
    "plt.title(\"Error Plot\")\n",
    "plt.ylabel('Mean Squared Error')\n",
    "plt.xlabel('Iterations')\n",
    "plt.show()\n",
    "\n",
    "y_pred = model.predict(X_test)\n",
    "y_pred = np.reshape(y_pred, y_test.shape)\n",
    "\n",
    "mse = mean_squared_error(y_test, y_pred)\n",
    "print(\"Mean squared error: %s\" % (mse))\n",
    "\n",
    "y_pred_line = model.predict(X)\n",
    "\n",
    "# Color map\n",
    "cmap = plt.get_cmap('viridis')\n",
    "\n",
    "# Plot the results，画拟合情况的图\n",
    "m1 = plt.scatter(366 * X_train, y_train, color=cmap(0.9), s=10)\n",
    "m2 = plt.scatter(366 * X_test, y_test, color=cmap(0.5), s=10)\n",
    "plt.plot(366 * X, y_pred_line, color='black', linewidth=2, label=\"Prediction\")\n",
    "plt.suptitle(\"Linear Regression\")\n",
    "plt.title(\"MSE: %.2f\" % mse, fontsize=10)\n",
    "plt.xlabel('Day')\n",
    "plt.ylabel('Temperature in Celcius')\n",
    "plt.legend((m1, m2), (\"Training data\", \"Test data\"), loc='lower right')\n",
    "plt.show()"
   ]
  },
  {
   "cell_type": "code",
   "execution_count": null,
   "id": "a4b3145f",
   "metadata": {},
   "outputs": [],
   "source": []
  },
  {
   "cell_type": "code",
   "execution_count": null,
   "id": "7f4e24d1",
   "metadata": {},
   "outputs": [],
   "source": []
  }
 ],
 "metadata": {
  "kernelspec": {
   "display_name": "Python 3 (ipykernel)",
   "language": "python",
   "name": "python3"
  },
  "language_info": {
   "codemirror_mode": {
    "name": "ipython",
    "version": 3
   },
   "file_extension": ".py",
   "mimetype": "text/x-python",
   "name": "python",
   "nbconvert_exporter": "python",
   "pygments_lexer": "ipython3",
   "version": "3.8.3"
  },
  "toc": {
   "base_numbering": 1,
   "nav_menu": {},
   "number_sections": true,
   "sideBar": true,
   "skip_h1_title": false,
   "title_cell": "Table of Contents",
   "title_sidebar": "Contents",
   "toc_cell": false,
   "toc_position": {},
   "toc_section_display": true,
   "toc_window_display": false
  }
 },
 "nbformat": 4,
 "nbformat_minor": 5
}
